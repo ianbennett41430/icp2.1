{
  "nbformat": 4,
  "nbformat_minor": 0,
  "metadata": {
    "colab": {
      "provenance": [],
      "authorship_tag": "ABX9TyN5c2HfoLvYcA+mVzBGDcjG",
      "include_colab_link": true
    },
    "kernelspec": {
      "name": "python3",
      "display_name": "Python 3"
    },
    "language_info": {
      "name": "python"
    }
  },
  "cells": [
    {
      "cell_type": "markdown",
      "metadata": {
        "id": "view-in-github",
        "colab_type": "text"
      },
      "source": [
        "<a href=\"https://colab.research.google.com/github/ianbennett41430/icp2.1/blob/main/CS4710_ICP2.ipynb\" target=\"_parent\"><img src=\"https://colab.research.google.com/assets/colab-badge.svg\" alt=\"Open In Colab\"/></a>"
      ]
    },
    {
      "cell_type": "markdown",
      "source": [
        "Part 1:"
      ],
      "metadata": {
        "id": "rHj0SXorq4PF"
      }
    },
    {
      "cell_type": "code",
      "source": [
        "i = 1 #start and end point\n",
        "n = 5 #max number of astricks\n",
        "#Prints the top half\n",
        "for i in range(1, n + 1): #starts with 1 astrick and goes until i = 5\n",
        "    for j in range(i): #for loop for printing astricks up to whatever i is\n",
        "        print(\"* \", end=\" \")\n",
        "    print() #goes to next line\n",
        "#Prints bottom half\n",
        "for i in range(n - 1, 0, -1): #ierates backwards starting at 5\n",
        "    for j in range(i): #prints astricks to whatever the index of i is\n",
        "        print(\"* \", end=\" \")\n",
        "    print() #goes to the next line"
      ],
      "metadata": {
        "colab": {
          "base_uri": "https://localhost:8080/"
        },
        "id": "3Vn0Qi19q64l",
        "outputId": "684534c0-abb5-4527-ea93-23ac5db66f4d"
      },
      "execution_count": null,
      "outputs": [
        {
          "output_type": "stream",
          "name": "stdout",
          "text": [
            "*  \n",
            "*  *  \n",
            "*  *  *  \n",
            "*  *  *  *  \n",
            "*  *  *  *  *  \n",
            "*  *  *  *  \n",
            "*  *  *  \n",
            "*  *  \n",
            "*  \n"
          ]
        }
      ]
    },
    {
      "cell_type": "markdown",
      "source": [
        "Part 2:"
      ],
      "metadata": {
        "id": "fADLmvBtOz0A"
      }
    },
    {
      "cell_type": "code",
      "source": [
        "my_list = [10, 20, 30, 40, 50, 60, 70, 80, 90, 100]\n",
        "\n",
        "for i in range(1, len(my_list), 2): #Searches odd elements starting at index 1\n",
        "  print(my_list[i]) #prints whatever is in the odd index of the array"
      ],
      "metadata": {
        "colab": {
          "base_uri": "https://localhost:8080/"
        },
        "id": "p7RXVYEwO3WU",
        "outputId": "cf7a6dac-cdb4-4494-e708-2578b46d6a66"
      },
      "execution_count": null,
      "outputs": [
        {
          "output_type": "stream",
          "name": "stdout",
          "text": [
            "20\n",
            "40\n",
            "60\n",
            "80\n",
            "100\n"
          ]
        }
      ]
    },
    {
      "cell_type": "markdown",
      "source": [
        "Part 3:"
      ],
      "metadata": {
        "id": "ej63PD2PtgNL"
      }
    },
    {
      "cell_type": "code",
      "source": [
        "x = [23, 'Python', 23.98] #builds list x\n",
        "types = [] #list to pass the types to\n",
        "for item in x: #for loop to iterate through the list\n",
        "  types.append(type(item)) #searches each items type and passes it to types list\n",
        "\n",
        "print(x) #prints x list\n",
        "print(types) #prints types list"
      ],
      "metadata": {
        "colab": {
          "base_uri": "https://localhost:8080/"
        },
        "id": "RndbOFAlth7D",
        "outputId": "922cb4ab-a04f-459d-d509-cbcbfac1767b"
      },
      "execution_count": null,
      "outputs": [
        {
          "output_type": "stream",
          "name": "stdout",
          "text": [
            "[23, 'Python', 23.98]\n",
            "[<class 'int'>, <class 'str'>, <class 'float'>]\n"
          ]
        }
      ]
    },
    {
      "cell_type": "markdown",
      "source": [
        "Part 4:"
      ],
      "metadata": {
        "id": "Cj8_FR4q2x1H"
      }
    },
    {
      "cell_type": "code",
      "source": [
        "sample_list = [1,2,3,3,3,3,4,5] #defines sample list\n",
        "\n",
        "unique_list = list(set(sample_list)) #passes each unique item to seperate list unique_list\n",
        "\n",
        "print(sample_list) #prints sample list\n",
        "print(unique_list) #prints unique list"
      ],
      "metadata": {
        "colab": {
          "base_uri": "https://localhost:8080/"
        },
        "id": "1IuHddn82z2L",
        "outputId": "8c2d81ae-1c7d-4c3a-dcb1-c85ef40b7564"
      },
      "execution_count": null,
      "outputs": [
        {
          "output_type": "stream",
          "name": "stdout",
          "text": [
            "[1, 2, 3, 3, 3, 3, 4, 5]\n",
            "[1, 2, 3, 4, 5]\n"
          ]
        }
      ]
    },
    {
      "cell_type": "markdown",
      "source": [
        "Part 5:"
      ],
      "metadata": {
        "id": "jCIx8Lak35E2"
      }
    },
    {
      "cell_type": "code",
      "source": [
        "input_string = 'The quick Brow Fox' #input string\n",
        "#initializes uppercase and lowercase counters\n",
        "uppercase_count = 0\n",
        "lowercase_count = 0\n",
        "\n",
        "for char in input_string: #for loop to move through the string\n",
        "  #checks if its a uppercase letter and adds to the counter\n",
        "  if char.isupper():\n",
        "    uppercase_count += 1\n",
        "  #checks if its a lowercase letter and adds to the counter\n",
        "  elif char.islower():\n",
        "    lowercase_count += 1\n",
        "\n",
        "print(input_string) #printts the input string\n",
        "print(\"No. of Upper-case characters: \", uppercase_count) #prints the uppercase letter count\n",
        "print(\"No. of Lower-case characters: \", lowercase_count) #prints the lowercase letter count"
      ],
      "metadata": {
        "colab": {
          "base_uri": "https://localhost:8080/"
        },
        "id": "weko0lVn37Dd",
        "outputId": "70e333cf-8792-4cec-c98c-fabe672faa02"
      },
      "execution_count": null,
      "outputs": [
        {
          "output_type": "stream",
          "name": "stdout",
          "text": [
            "The quick Brow Fox\n",
            "No. of Upper-case characters:  3\n",
            "No. of Lower-case characters:  12\n"
          ]
        }
      ]
    },
    {
      "cell_type": "code",
      "source": [],
      "metadata": {
        "id": "T7B2ra4J6l-9"
      },
      "execution_count": null,
      "outputs": []
    }
  ]
}